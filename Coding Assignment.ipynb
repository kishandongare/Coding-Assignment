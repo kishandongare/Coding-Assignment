{
 "cells": [
  {
   "cell_type": "code",
   "execution_count": 160,
   "id": "7ce4a8bd",
   "metadata": {},
   "outputs": [],
   "source": [
    "#Name : Kishan Dongare\n",
    "#Email : kishan.tech25@gmail.com\n",
    "#Phone : +918319171837\n",
    "#Role : Python Developer"
   ]
  },
  {
   "cell_type": "markdown",
   "id": "bac114a8",
   "metadata": {},
   "source": [
    "# Coding Assignment"
   ]
  },
  {
   "cell_type": "markdown",
   "id": "717f1375",
   "metadata": {},
   "source": [
    "Python Package:Scrapy/Beautifulsoup\n",
    "Details: Please scrap below information form given URL- https://www.justwatch.com/ag/movie/k-g-f-chapter-1\n",
    "● Genre\n",
    "● Director Name\n",
    "● Cast\n",
    "● Release year\n",
    "● Language\n",
    "● Duration\n",
    "● IMDb Ratings.\n",
    "● Movie name\n",
    "● Movie Link"
   ]
  },
  {
   "cell_type": "markdown",
   "id": "7f14c2c3",
   "metadata": {},
   "source": [
    "# Import Module"
   ]
  },
  {
   "cell_type": "code",
   "execution_count": 161,
   "id": "f9a0614b",
   "metadata": {},
   "outputs": [],
   "source": [
    "from bs4 import BeautifulSoup\n",
    "import requests\n",
    "import pandas"
   ]
  },
  {
   "cell_type": "markdown",
   "id": "5fb73f17",
   "metadata": {},
   "source": [
    "# Request page source from URL"
   ]
  },
  {
   "cell_type": "code",
   "execution_count": 162,
   "id": "05402879",
   "metadata": {},
   "outputs": [
    {
     "data": {
      "text/plain": [
       "<Response [200]>"
      ]
     },
     "execution_count": 162,
     "metadata": {},
     "output_type": "execute_result"
    }
   ],
   "source": [
    "url = \"https://www.justwatch.com/ag/movie/k-g-f-chapter-1\" #Already a movie link\n",
    "page = requests.get(url)\n",
    "page"
   ]
  },
  {
   "cell_type": "markdown",
   "id": "06d349b3",
   "metadata": {},
   "source": [
    "# Display the page source code"
   ]
  },
  {
   "cell_type": "code",
   "execution_count": 163,
   "id": "32dc9c20",
   "metadata": {},
   "outputs": [],
   "source": [
    "soup = BeautifulSoup(page.content,\"html.parser\")\n",
    "#print(soup.prettify())"
   ]
  },
  {
   "cell_type": "markdown",
   "id": "865ed31b",
   "metadata": {},
   "source": [
    "# Scraping Movie Name"
   ]
  },
  {
   "cell_type": "code",
   "execution_count": 164,
   "id": "42fe08fa",
   "metadata": {},
   "outputs": [
    {
     "name": "stdout",
     "output_type": "stream",
     "text": [
      "Movie Name:> ['K.G.F: Chapter 1']\n"
     ]
    }
   ],
   "source": [
    "def movie_name():\n",
    "    scraped_movies2= soup.find_all('div',class_='title-block')\n",
    "    scraped_movies2\n",
    "    movies2 = []\n",
    "    for movie in scraped_movies2:\n",
    "        for h in soup.find_all('h1'):\n",
    "            movies2.append(h.get_text('h1').strip())\n",
    "    movie_name = movies2\n",
    "    print(\"Movie Name:>\", movie_name)\n",
    "movie_name()\n"
   ]
  },
  {
   "cell_type": "markdown",
   "id": "37088eed",
   "metadata": {},
   "source": [
    "# Scraping Release Year"
   ]
  },
  {
   "cell_type": "code",
   "execution_count": 165,
   "id": "9428c69c",
   "metadata": {},
   "outputs": [
    {
     "name": "stdout",
     "output_type": "stream",
     "text": [
      "Release Year :> ['(2018)']\n"
     ]
    }
   ],
   "source": [
    "def Release_Year():\n",
    "    scraped_movies3= soup.find_all('div',class_='title-block')\n",
    "    scraped_movies3\n",
    "    movies3 = []\n",
    "    for movie in scraped_movies3:\n",
    "        for h in soup.find_all('span',class_=\"text-muted\"):\n",
    "            movies3.append(h.get_text('span').strip())\n",
    "    release_year = movies3\n",
    "    print(\"Release Year :>\",release_year)\n",
    "Release_Year()"
   ]
  },
  {
   "cell_type": "markdown",
   "id": "f781532b",
   "metadata": {},
   "source": [
    "# Extracting Rating, Genre, Duration, Director_Name"
   ]
  },
  {
   "cell_type": "code",
   "execution_count": 166,
   "id": "f647b7cf",
   "metadata": {},
   "outputs": [
    {
     "name": "stdout",
     "output_type": "stream",
     "text": [
      "IMDB Rating :> 85%  8.2 (83k)\n",
      "Genre:> Action & Adventure , Drama , Mystery & Thriller , Crime\n",
      "Duration:> 2h 36min\n",
      "Director Name:> Prashanth Neel\n"
     ]
    }
   ],
   "source": [
    "def rating_genre_duration_Dname():\n",
    "    scraped_movies = soup.find_all('div', class_='detail-infos__value' )\n",
    "    scraped_movies\n",
    "    movies = []\n",
    "    for movie in scraped_movies:\n",
    "        movies.append(movie.get_text().strip())\n",
    "    movies[0:4]\n",
    "    rating = movies[0]\n",
    "    print(\"IMDB Rating :>\",rating)\n",
    "    genre = movies[1]\n",
    "    print(\"Genre:>\", genre)\n",
    "    duration = movies[2]\n",
    "    print(\"Duration:>\",duration)\n",
    "    director = movies[3]\n",
    "    print(\"Director Name:>\",director)\n",
    "    \n",
    "rating_genre_duration_Dname()    \n"
   ]
  },
  {
   "cell_type": "markdown",
   "id": "8b39a1d0",
   "metadata": {},
   "source": [
    "# Scraping Cast"
   ]
  },
  {
   "cell_type": "code",
   "execution_count": 167,
   "id": "6a7aafb2",
   "metadata": {},
   "outputs": [
    {
     "name": "stdout",
     "output_type": "stream",
     "text": [
      "Cast:> [\" Yash Raja Krishnappa Bairya 'Rocky'\", ' Srinidhi Shetty Reena', ' Achyuth Kumar Guru Pandyan', ' Malavika Avinash Deepa Hegde', ' Anant Nag Anand Ingalagi', ' Vasishta N. Simha Kamal', ' Neenasam Ashwath Kulkarni', ' Archana Jois Shanthamma', ' Ayyappa P. Sharma Vanaram', ' Tamannaah Bhatia Milky', ' Ashok Sharma young Anand Ingalagi', ' Ramesh Indira Suryavardhan', ' Ramachandra Raju Garuda', ' Vinay Bidappa Virat', ' B. S. Avinash Andrews', ' Dinesh Mangalore Shetty', ' John Kokken John', \" Sampath Maitreya Shanti's husband\", ' B Suresha Vittal', ' Puneeth Rudranag Rugga, an overseer at mines', ' Maran ', ' Tarak Ponnappa Daya', ' Roopa Rayappa Shanthi, a slave at KGF']\n"
     ]
    }
   ],
   "source": [
    "def cast():\n",
    "    scraped_movies1= soup.find_all('div', class_= 'title-credits__actor')\n",
    "    scraped_movies1\n",
    "    movies1 = []\n",
    "    for movie in scraped_movies1:\n",
    "        movies1.append(movie.get_text())\n",
    "    cast = movies1\n",
    "    print(\"Cast:>\",cast)\n",
    "cast()"
   ]
  },
  {
   "cell_type": "code",
   "execution_count": 168,
   "id": "8bfe6421",
   "metadata": {},
   "outputs": [],
   "source": [
    "#Language  :  Not found Language of movie in webpage or movie of link.\n",
    "#movie link : Movie link is a already a scraping link"
   ]
  },
  {
   "cell_type": "code",
   "execution_count": null,
   "id": "3957872f",
   "metadata": {},
   "outputs": [],
   "source": []
  },
  {
   "cell_type": "code",
   "execution_count": null,
   "id": "48899caa",
   "metadata": {},
   "outputs": [],
   "source": []
  },
  {
   "cell_type": "code",
   "execution_count": null,
   "id": "2c945f0f",
   "metadata": {},
   "outputs": [],
   "source": []
  }
 ],
 "metadata": {
  "kernelspec": {
   "display_name": "Python 3",
   "language": "python",
   "name": "python3"
  },
  "language_info": {
   "codemirror_mode": {
    "name": "ipython",
    "version": 3
   },
   "file_extension": ".py",
   "mimetype": "text/x-python",
   "name": "python",
   "nbconvert_exporter": "python",
   "pygments_lexer": "ipython3",
   "version": "3.8.8"
  }
 },
 "nbformat": 4,
 "nbformat_minor": 5
}
